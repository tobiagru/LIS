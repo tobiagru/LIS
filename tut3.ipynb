{
 "cells": [
  {
   "cell_type": "markdown",
   "metadata": {},
   "source": [
    "# LIS '16 &ndash; Python tutorial"
   ]
  },
  {
   "cell_type": "code",
   "execution_count": 52,
   "metadata": {},
   "outputs": [],
   "source": [
    "%matplotlib inline\n",
    "from __future__ import print_function"
   ]
  },
  {
   "cell_type": "markdown",
   "metadata": {},
   "source": [
    "## Matrix operations, plotting, and linear regression"
   ]
  },
  {
   "cell_type": "code",
   "execution_count": 53,
   "metadata": {},
   "outputs": [],
   "source": [
    "# Provides Matlab-style matrix operations\n",
    "import numpy as np\n",
    "# Provides Matlab-style plotting\n",
    "import matplotlib.pylab as plt"
   ]
  },
  {
   "cell_type": "markdown",
   "metadata": {},
   "source": [
    "### Vectors and matrices in ```NumPy```"
   ]
  },
  {
   "cell_type": "code",
   "execution_count": 54,
   "metadata": {},
   "outputs": [
    {
     "name": "stdout",
     "output_type": "stream",
     "text": [
      "x =  [ 1 -1]\n",
      "A = \n",
      " [[1 2]\n",
      " [3 4]\n",
      " [5 6]]\n"
     ]
    }
   ],
   "source": [
    "x = np.array([1, -1])\n",
    "A = np.array([\n",
    "    [1, 2],\n",
    "    [3, 4],\n",
    "    [5, 6]])\n",
    "print('x = ', x)\n",
    "print('A = \\n', A)"
   ]
  },
  {
   "cell_type": "markdown",
   "metadata": {},
   "source": [
    "The shape is (rows, cols)"
   ]
  },
  {
   "cell_type": "code",
   "execution_count": 55,
   "metadata": {},
   "outputs": [
    {
     "name": "stdout",
     "output_type": "stream",
     "text": [
      "Shape of A: (3, 2)\n"
     ]
    }
   ],
   "source": [
    "print('Shape of A:', A.shape)"
   ]
  },
  {
   "cell_type": "markdown",
   "metadata": {},
   "source": [
    "We can easily scale the matrix, or add a constant to it."
   ]
  },
  {
   "cell_type": "code",
   "execution_count": 56,
   "metadata": {},
   "outputs": [
    {
     "name": "stdout",
     "output_type": "stream",
     "text": [
      "5*A = \n",
      " [[ 5 10]\n",
      " [15 20]\n",
      " [25 30]]\n",
      "2 + A = \n",
      " [[3 4]\n",
      " [5 6]\n",
      " [7 8]]\n"
     ]
    }
   ],
   "source": [
    "print('5*A = \\n', 5*A)\n",
    "print('2 + A = \\n', 2 + A)"
   ]
  },
  {
   "cell_type": "markdown",
   "metadata": {},
   "source": [
    "All other binary operations are also element-wise."
   ]
  },
  {
   "cell_type": "code",
   "execution_count": 57,
   "metadata": {},
   "outputs": [
    {
     "name": "stdout",
     "output_type": "stream",
     "text": [
      "A**2=\n",
      " [[ 1  4]\n",
      " [ 9 16]\n",
      " [25 36]]\n"
     ]
    }
   ],
   "source": [
    "print('A**2=\\n', A**2)"
   ]
  },
  {
   "cell_type": "markdown",
   "metadata": {},
   "source": [
    "We can take the transpose as follows."
   ]
  },
  {
   "cell_type": "code",
   "execution_count": 58,
   "metadata": {},
   "outputs": [
    {
     "name": "stdout",
     "output_type": "stream",
     "text": [
      "Transpose of A:\n",
      " [[1 3 5]\n",
      " [2 4 6]]\n"
     ]
    }
   ],
   "source": [
    "print('Transpose of A:\\n', A.T)"
   ]
  },
  {
   "cell_type": "markdown",
   "metadata": {},
   "source": [
    "You can multiply matrices and vectors."
   ]
  },
  {
   "cell_type": "code",
   "execution_count": 59,
   "metadata": {},
   "outputs": [
    {
     "name": "stdout",
     "output_type": "stream",
     "text": [
      "A*x=\n",
      " [-1 -1 -1]\n"
     ]
    }
   ],
   "source": [
    "print('A*x=\\n', A.dot(x))"
   ]
  },
  {
   "cell_type": "markdown",
   "metadata": {},
   "source": [
    "The multiplication operator performs element-wise multiplication."
   ]
  },
  {
   "cell_type": "code",
   "execution_count": 60,
   "metadata": {},
   "outputs": [
    {
     "name": "stdout",
     "output_type": "stream",
     "text": [
      "A*B\n",
      " [[  1  -2]\n",
      " [  6  -8]\n",
      " [ 15 -18]]\n"
     ]
    }
   ],
   "source": [
    "B = np.array([\n",
    "    [1, -1],\n",
    "    [2, -2],\n",
    "    [3, -3]])\n",
    "print('A*B\\n', A*B)"
   ]
  },
  {
   "cell_type": "markdown",
   "metadata": {},
   "source": [
    "Be careful with slicing!"
   ]
  },
  {
   "cell_type": "code",
   "execution_count": 61,
   "metadata": {},
   "outputs": [
    {
     "name": "stdout",
     "output_type": "stream",
     "text": [
      "[4 8]\n"
     ]
    }
   ],
   "source": [
    "T = np.array([[1, 2, 3], [4, 5, 6], [7, 8, 9]])\n",
    "print(T[[1, 2], [0, 1]])"
   ]
  },
  {
   "cell_type": "code",
   "execution_count": 62,
   "metadata": {},
   "outputs": [
    {
     "name": "stdout",
     "output_type": "stream",
     "text": [
      "[[4 5]\n",
      " [7 8]]\n"
     ]
    }
   ],
   "source": [
    "print(T[[[1], [2]], [0, 1]])"
   ]
  },
  {
   "cell_type": "code",
   "execution_count": 63,
   "metadata": {},
   "outputs": [
    {
     "name": "stdout",
     "output_type": "stream",
     "text": [
      "[[4 5]\n",
      " [7 8]]\n"
     ]
    }
   ],
   "source": [
    "print(T[[1, 2]][:, [0, 1]])"
   ]
  },
  {
   "cell_type": "markdown",
   "metadata": {},
   "source": [
    "We can compute the SVD as follows."
   ]
  },
  {
   "cell_type": "code",
   "execution_count": 64,
   "metadata": {},
   "outputs": [
    {
     "name": "stdout",
     "output_type": "stream",
     "text": [
      "Singular values of A: [ 9.52551809  0.51430058]\n"
     ]
    }
   ],
   "source": [
    "U, S, V = np.linalg.svd(A)\n",
    "print('Singular values of A:', S)"
   ]
  },
  {
   "cell_type": "markdown",
   "metadata": {},
   "source": [
    "We can solve a linear system as follows."
   ]
  },
  {
   "cell_type": "code",
   "execution_count": 65,
   "metadata": {},
   "outputs": [
    {
     "name": "stdout",
     "output_type": "stream",
     "text": [
      "Solution of linear system: [-2.33333333  2.66666667]\n"
     ]
    }
   ],
   "source": [
    "C = np.array([\n",
    "        [1, 2],\n",
    "        [4, 5]])\n",
    "print('Solution of linear system:', np.linalg.solve(C, np.array([3, 4])))"
   ]
  },
  {
   "cell_type": "markdown",
   "metadata": {},
   "source": [
    "For over-determined system, we have to solve least squares problem. The function lstsq returns also some other values (see documentation)."
   ]
  },
  {
   "cell_type": "code",
   "execution_count": 66,
   "metadata": {},
   "outputs": [
    {
     "name": "stdout",
     "output_type": "stream",
     "text": [
      "Least squares solution: [ -2.42039096e+15  -2.42039096e+15]\n"
     ]
    }
   ],
   "source": [
    "x  = np.linalg.lstsq(B, np.array([3, 4, 1]))[0]\n",
    "print('Least squares solution:', x)"
   ]
  },
  {
   "cell_type": "markdown",
   "metadata": {},
   "source": [
    "### Plotting"
   ]
  },
  {
   "cell_type": "code",
   "execution_count": 67,
   "metadata": {},
   "outputs": [
    {
     "data": {
      "image/png": "[encoded data removed]"
     },
     "output_type": "display_data",
     "metadata": {}
    }
   ],
   "source": [
    "x = np.linspace(0, 10, 100)\n",
    "plt.plot(x, np.sin(x), label='sine')\n",
    "plt.plot(x, np.cos(x), label='cos')\n",
    "plt.legend();"
   ]
  },
  {
   "cell_type": "markdown",
   "metadata": {},
   "source": [
    "### Sampling"
   ]
  },
  {
   "cell_type": "code",
   "execution_count": 68,
   "metadata": {},
   "outputs": [
    {
     "data": {
      "image/png": "[encoded data removed]"
     },
     "output_type": "display_data",
     "metadata": {}
    }
   ],
   "source": [
    "plt.hist(np.random.randn(10000), bins=100);"
   ]
  },
  {
   "cell_type": "code",
   "execution_count": 69,
   "metadata": {},
   "outputs": [
    {
     "data": {
      "image/png": "[encoded data removed]"
     },
     "output_type": "display_data",
     "metadata": {}
    }
   ],
   "source": [
    "plt.hist(np.random.rand(10000), bins=100);"
   ]
  },
  {
   "cell_type": "code",
   "execution_count": 70,
   "metadata": {},
   "outputs": [
    {
     "data": {
      "image/png": "[encoded data removed]"
     },
     "output_type": "display_data",
     "metadata": {}
    }
   ],
   "source": [
    "plt.hist(np.random.beta(2, 2, 100000), bins=100);"
   ]
  },
  {
   "cell_type": "markdown",
   "metadata": {},
   "source": [
    "### Two-dimensional Gaussians"
   ]
  },
  {
   "cell_type": "code",
   "execution_count": 71,
   "metadata": {},
   "outputs": [],
   "source": [
    "def plot_2d_gaussian(H):\n",
    "    plt.figure(figsize=(4,4)) # Square plot aspect ratio.\n",
    "    H = np.linalg.inv(H)\n",
    "    x, y = np.meshgrid(np.linspace(-5, 5, 300), np.linspace(-5, 5, 300))\n",
    "    plt.contour(x, y, np.exp(-0.5 * (x**2*H[0, 0] + y**2*H[1, 1] + 2*x*y*H[0, 1])))\n",
    "    plt.xlim(-5, 5)\n",
    "    plt.ylim(-5, 5)\n",
    "    \n",
    "    \n",
    "def plot_samples(H):\n",
    "    L = np.linalg.cholesky(H)\n",
    "    samples = L.dot(np.random.randn(2, 100))\n",
    "    plt.plot(samples[0, :], samples[1, :], 'rx')"
   ]
  },
  {
   "cell_type": "code",
   "execution_count": 72,
   "metadata": {},
   "outputs": [
    {
     "data": {
      "image/png": "[encoded data removed]"
     },
     "output_type": "display_data",
     "metadata": {}
    }
   ],
   "source": [
    "plot_2d_gaussian(np.eye(2))\n",
    "plot_samples(np.eye(2))"
   ]
  },
  {
   "cell_type": "code",
   "execution_count": 73,
   "metadata": {},
   "outputs": [
    {
     "data": {
      "image/png": "[encoded data removed]"
     },
     "output_type": "display_data",
     "metadata": {}
    }
   ],
   "source": [
    "plot_2d_gaussian(3*np.eye(2))\n",
    "plot_samples(3*np.eye(2))"
   ]
  },
  {
   "cell_type": "code",
   "execution_count": 74,
   "metadata": {},
   "outputs": [
    {
     "name": "stdout",
     "output_type": "stream",
     "text": [
      "eigen values: [ 3.  1.]\n",
      "eigen vectors:\n",
      " [[ 0.70710678 -0.70710678]\n",
      " [ 0.70710678  0.70710678]]\n"
     ]
    },
    {
     "data": {
      "image/png": "[encoded data removed]"
     },
     "output_type": "display_data",
     "metadata": {}
    }
   ],
   "source": [
    "C = np.array([[2, 1], [1, 2]])\n",
    "plot_2d_gaussian(np.matrix(C))\n",
    "plot_samples(np.matrix(C))\n",
    "eigvals, eigvecs = np.linalg.eig(C)\n",
    "print('eigen values:', eigvals)\n",
    "print('eigen vectors:\\n', eigvecs)"
   ]
  },
  {
   "cell_type": "code",
   "execution_count": 75,
   "metadata": {},
   "outputs": [
    {
     "data": {
      "image/png": "[encoded data removed]"
     },
     "output_type": "display_data",
     "metadata": {}
    }
   ],
   "source": [
    "plot_2d_gaussian(np.matrix([[2, -1], [-1, 2]]))\n",
    "plot_samples(np.matrix([[2, -1], [-1, 2]]))"
   ]
  },
  {
   "cell_type": "code",
   "execution_count": 76,
   "metadata": {},
   "outputs": [
    {
     "data": {
      "image/png": "[encoded data removed]"
     },
     "output_type": "display_data",
     "metadata": {}
    }
   ],
   "source": [
    "plot_2d_gaussian(np.matrix([[2, -1], [0.5, 2]]))\n",
    "plot_samples(np.matrix([[2, -1], [0.5, 2]]))"
   ]
  },
  {
   "cell_type": "markdown",
   "metadata": {},
   "source": [
    "### Linear regression"
   ]
  },
  {
   "cell_type": "markdown",
   "metadata": {},
   "source": [
    "Generate a linear data set corrupted by noise."
   ]
  },
  {
   "cell_type": "code",
   "execution_count": 77,
   "metadata": {},
   "outputs": [
    {
     "name": "stdout",
     "output_type": "stream",
     "text": [
      "X shape: (30, 1)\n",
      "Y shape: (30, 1)\n"
     ]
    },
    {
     "data": {
      "text/plain": [
       "[<matplotlib.lines.Line2D at 0x7fdc5d526650>]"
      ]
     },
     "execution_count": 77,
     "output_type": "execute_result",
     "metadata": {}
    },
    {
     "data": {
      "image/png": "[encoded data removed]"
     },
     "output_type": "display_data",
     "metadata": {}
    }
   ],
   "source": [
    "X = np.random.rand(30, 1)\n",
    "Y = 3*X + 5 + 0.5*np.random.randn(30, 1)\n",
    "print('X shape:', X.shape)\n",
    "print('Y shape:', Y.shape)\n",
    "plt.plot(X, Y, 'ro')"
   ]
  },
  {
   "cell_type": "code",
   "execution_count": 78,
   "metadata": {},
   "outputs": [
    {
     "name": "stdout",
     "output_type": "stream",
     "text": [
      "X_mod shape: (30, 2)\n",
      "Y shape: (30, 1)\n"
     ]
    }
   ],
   "source": [
    "X_mod = np.hstack((X, np.ones((30, 1))))\n",
    "print('X_mod shape:', X_mod.shape)\n",
    "print('Y shape:', Y.shape)"
   ]
  },
  {
   "cell_type": "code",
   "execution_count": 79,
   "metadata": {},
   "outputs": [
    {
     "name": "stdout",
     "output_type": "stream",
     "text": [
      "slope [ 3.43808859] intercept [ 4.6737675]\n"
     ]
    },
    {
     "data": {
      "image/png": "[encoded data removed]"
     },
     "output_type": "display_data",
     "metadata": {}
    }
   ],
   "source": [
    "w = np.linalg.solve(X_mod.T.dot(X_mod), X_mod.T.dot(Y))\n",
    "print('slope', w[0], 'intercept', w[1])\n",
    "x_lin = np.linspace(0, 1, 100)\n",
    "plt.plot(X, Y, 'ro')\n",
    "plt.plot(x_lin, w[0]*x_lin + w[1], 'b-');"
   ]
  },
  {
   "cell_type": "markdown",
   "metadata": {},
   "source": [
    "## Project 1: Regression\n",
    "\n",
    "In the following, we use scikit-learn (http://scikit-learn.org/), a Python library which provides a lot of functionality related to Machine Learning (regression, classification, cross-validation, etc.)."
   ]
  },
  {
   "cell_type": "code",
   "execution_count": 80,
   "metadata": {},
   "outputs": [],
   "source": [
    "# Contains linear models, e.g., linear regression, ridge regression, LASSO, etc.\n",
    "import sklearn.linear_model as sklin\n",
    "# Allows us to create custom scoring functions\n",
    "import sklearn.metrics as skmet\n",
    "# Provides train-test split, cross-validation, etc.\n",
    "import sklearn.cross_validation as skcv\n",
    "# Provides grid search functionality\n",
    "import sklearn.grid_search as skgs\n",
    "# The dataset we will use\n",
    "from sklearn.datasets import load_boston\n",
    "# For data normalization\n",
    "import sklearn.preprocessing as skpr"
   ]
  },
  {
   "cell_type": "markdown",
   "metadata": {},
   "source": [
    "### Example data set"
   ]
  },
  {
   "cell_type": "code",
   "execution_count": 81,
   "metadata": {},
   "outputs": [
    {
     "name": "stdout",
     "output_type": "stream",
     "text": [
      "Boston House Prices dataset\n",
      "\n",
      "Notes\n",
      "------\n",
      "Data Set Characteristics:  \n",
      "\n",
      "    :Number of Instances: 506 \n",
      "\n",
      "    :Number of Attributes: 13 numeric/categorical predictive\n",
      "    \n",
      "    :Median Value (attribute 14) is usually the target\n",
      "\n",
      "    :Attribute Information (in order):\n",
      "        - CRIM     per capita crime rate by town\n",
      "        - ZN       proportion of residential land zoned for lots over 25,000 sq.ft.\n",
      "        - INDUS    proportion of non-retail business acres per town\n",
      "        - CHAS     Charles River dummy variable (= 1 if tract bounds river; 0 otherwise)\n",
      "        - NOX      nitric oxides concentration (parts per 10 million)\n",
      "        - RM       average number of rooms per dwelling\n",
      "        - AGE      proportion of owner-occupied units built prior to 1940\n",
      "        - DIS      weighted distances to five Boston employment centres\n",
      "        - RAD      index of accessibility to radial highways\n",
      "        - TAX      full-value property-tax rate per $10,000\n",
      "        - PTRATIO  pupil-teacher ratio by town\n",
      "        - B        1000(Bk - 0.63)^2 where Bk is the proportion of blacks by town\n",
      "        - LSTAT    % lower status of the population\n",
      "        - MEDV     Median value of owner-occupied homes in $1000's\n",
      "\n",
      "    :Missing Attribute Values: None\n",
      "\n",
      "    :Creator: Harrison, D. and Rubinfeld, D.L.\n",
      "\n",
      "This is a copy of UCI ML housing dataset.\n",
      "http://archive.ics.uci.edu/ml/datasets/Housing\n",
      "\n",
      "\n",
      "This dataset was taken from the StatLib library which is maintained at Carnegie Mellon University.\n",
      "\n",
      "The Boston house-price data of Harrison, D. and Rubinfeld, D.L. 'Hedonic\n",
      "prices and the demand for clean air', J. Environ. Economics & Management,\n",
      "vol.5, 81-102, 1978.   Used in Belsley, Kuh & Welsch, 'Regression diagnostics\n",
      "...', Wiley, 1980.   N.B. Various transformations are used in the table on\n",
      "pages 244-261 of the latter.\n",
      "\n",
      "The Boston house-price data has been used in many machine learning papers that address regression\n",
      "problems.   \n",
      "     \n",
      "**References**\n",
      "\n",
      "   - Belsley, Kuh & Welsch, 'Regression diagnostics: Identifying Influential Data and Sources of Collinearity', Wiley, 1980. 244-261.\n",
      "   - Quinlan,R. (1993). Combining Instance-Based and Model-Based Learning. In Proceedings on the Tenth International Conference of Machine Learning, 236-243, University of Massachusetts, Amherst. Morgan Kaufmann.\n",
      "   - many more! (see http://archive.ics.uci.edu/ml/datasets/Housing)\n",
      "\n"
     ]
    }
   ],
   "source": [
    "boston = load_boston()\n",
    "print(boston['DESCR'])"
   ]
  },
  {
   "cell_type": "code",
   "execution_count": 82,
   "metadata": {},
   "outputs": [
    {
     "name": "stdout",
     "output_type": "stream",
     "text": [
      "Shape of X: (506, 13)\n",
      "Shape of Y: (506,)\n"
     ]
    }
   ],
   "source": [
    "feature_names = boston['feature_names']\n",
    "def get_features(features):\n",
    "   return np.hstack((features,))\n",
    "X = get_features(boston.data)\n",
    "Y = boston.target\n",
    "print('Shape of X:', X.shape)\n",
    "print('Shape of Y:', Y.shape)\n",
    "# We can also (optionally) normalize the data\n",
    "X = skpr.scale(X)"
   ]
  },
  {
   "cell_type": "markdown",
   "metadata": {},
   "source": [
    "### Data split\n",
    "\n",
    "Now, we need to split our data into a train and a test set."
   ]
  },
  {
   "cell_type": "code",
   "execution_count": 83,
   "metadata": {},
   "outputs": [
    {
     "name": "stdout",
     "output_type": "stream",
     "text": [
      "Shape of Xtrain: (379, 13)\n",
      "Shape of Ytrain: (379,)\n",
      "Shape of Xtest: (127, 13)\n",
      "Shape of Ytest: (127,)\n"
     ]
    }
   ],
   "source": [
    "Xtrain, Xtest, Ytrain, Ytest = skcv.train_test_split(X, Y, train_size=0.75)\n",
    "print('Shape of Xtrain:', Xtrain.shape)\n",
    "print('Shape of Ytrain:', Ytrain.shape)\n",
    "print('Shape of Xtest:', Xtest.shape)\n",
    "print('Shape of Ytest:', Ytest.shape)"
   ]
  },
  {
   "cell_type": "markdown",
   "metadata": {},
   "source": [
    "### Correlations of the variables with the prediction"
   ]
  },
  {
   "cell_type": "code",
   "execution_count": 84,
   "metadata": {},
   "outputs": [
    {
     "name": "stdout",
     "output_type": "stream",
     "text": [
      "features 13 correlations 14\n",
      "      CRIM -0.3802\n",
      "        ZN +0.3636\n",
      "     INDUS -0.5167\n",
      "      CHAS +0.1191\n",
      "       NOX -0.4379\n",
      "        RM +0.6916\n",
      "       AGE -0.4000\n",
      "       DIS +0.2740\n",
      "       RAD -0.3779\n",
      "       TAX -0.4740\n",
      "   PTRATIO -0.4806\n",
      "         B +0.3468\n",
      "     LSTAT -0.7274\n",
      "    OUTPUT +1.0000\n"
     ]
    }
   ],
   "source": [
    "XYtrain = np.vstack((Xtrain.T, np.atleast_2d(Ytrain)))\n",
    "correlations = np.corrcoef(XYtrain)[-1, :]\n",
    "print('features', len(feature_names), 'correlations', len(correlations))\n",
    "for feature_name, correlation in zip(feature_names, correlations):\n",
    "    print('{0:>10} {1:+.4f}'.format(feature_name, correlation))\n",
    "print('{0:>10} {1:+.4f}'.format('OUTPUT', correlations[-1]))"
   ]
  },
  {
   "cell_type": "markdown",
   "metadata": {},
   "source": [
    "### Training\n",
    "\n",
    "We are ready to train a linear regressor on our training set."
   ]
  },
  {
   "cell_type": "code",
   "execution_count": 85,
   "metadata": {},
   "outputs": [
    {
     "name": "stdout",
     "output_type": "stream",
     "text": [
      " intercept +22.4402\n",
      "      CRIM -1.1119\n",
      "        ZN +1.1521\n",
      "     INDUS +0.0312\n",
      "      CHAS +0.4564\n",
      "       NOX -1.8296\n",
      "        RM +2.9269\n",
      "       AGE -0.3794\n",
      "       DIS -3.1334\n",
      "       RAD +2.9593\n",
      "       TAX -2.3956\n",
      "   PTRATIO -2.0349\n",
      "         B +0.9132\n",
      "     LSTAT -3.2909\n"
     ]
    }
   ],
   "source": [
    "regressor = sklin.LinearRegression()\n",
    "regressor.fit(Xtrain, Ytrain)\n",
    "print('{0:>10} {1:+.4f}'.format('intercept', regressor.intercept_))\n",
    "for feature_name, coef in zip(feature_names, regressor.coef_):\n",
    "    print('{0:>10} {1:+.4f}'.format(feature_name, coef))"
   ]
  },
  {
   "cell_type": "markdown",
   "metadata": {},
   "source": [
    "### Testing\n",
    "\n",
    "We use the following scoring function to estimate the perfomance of our regressor on the test set. The function thesholds any negative prediction to zero, and computes the MSE of the logarithms of our predictions."
   ]
  },
  {
   "cell_type": "code",
   "execution_count": 86,
   "metadata": {},
   "outputs": [
    {
     "name": "stdout",
     "output_type": "stream",
     "text": [
      "score = 4.93370765551\n"
     ]
    }
   ],
   "source": [
    "def score(gtruth, pred):\n",
    "    diff = gtruth - pred\n",
    "    return np.sqrt(np.mean(np.square(diff)))\n",
    "\n",
    "\n",
    "Ypred = regressor.predict(Xtest)\n",
    "print('score =', score(Ytest, Ypred))"
   ]
  },
  {
   "cell_type": "markdown",
   "metadata": {},
   "source": [
    "### Cross-validation\n",
    "\n",
    "Instead of splitting once into training and testing set, we can use cross-validation to perform multiple splits, and also obtain a variance estimate of our generalization score."
   ]
  },
  {
   "cell_type": "code",
   "execution_count": 87,
   "metadata": {},
   "outputs": [
    {
     "name": "stdout",
     "output_type": "stream",
     "text": [
      "C-V score = 5.83643122652 +/- 1.77733344513\n"
     ]
    }
   ],
   "source": [
    "scorefun = skmet.make_scorer(score)\n",
    "scores = skcv.cross_val_score(regressor, X, Y, scoring=scorefun, cv=5)\n",
    "print('C-V score =', np.mean(scores), '+/-', np.std(scores))"
   ]
  },
  {
   "cell_type": "markdown",
   "metadata": {},
   "source": [
    "### Grid search"
   ]
  },
  {
   "cell_type": "code",
   "execution_count": 88,
   "metadata": {},
   "outputs": [
    {
     "data": {
      "text/plain": [
       "GridSearchCV(cv=5, error_score='raise',\n",
       "       estimator=Ridge(alpha=1.0, copy_X=True, fit_intercept=True, max_iter=None,\n",
       "   normalize=False, random_state=None, solver='auto', tol=0.001),\n",
       "       fit_params={}, iid=True, n_jobs=1,\n",
       "       param_grid={'alpha': array([   0.     ,   11.11111,   22.22222,   33.33333,   44.44444,\n",
       "         55.55556,   66.66667,   77.77778,   88.88889,  100.     ])},\n",
       "       pre_dispatch='2*n_jobs', refit=True, scoring=make_scorer(<lambda>),\n",
       "       verbose=0)"
      ]
     },
     "execution_count": 88,
     "output_type": "execute_result",
     "metadata": {}
    }
   ],
   "source": [
    "regressor_ridge = sklin.Ridge()\n",
    "param_grid = {'alpha': np.linspace(0, 100, 10)}\n",
    "neg_scorefun = skmet.make_scorer(lambda x, y: -score(x, y))  # Note the negative sign.\n",
    "grid_search = skgs.GridSearchCV(regressor_ridge, param_grid, scoring=neg_scorefun, cv=5)\n",
    "grid_search.fit(Xtrain, Ytrain)"
   ]
  },
  {
   "cell_type": "markdown",
   "metadata": {},
   "source": [
    "Let us look at the best estimator found."
   ]
  },
  {
   "cell_type": "code",
   "execution_count": 89,
   "metadata": {},
   "outputs": [
    {
     "name": "stdout",
     "output_type": "stream",
     "text": [
      "Ridge(alpha=0.0, copy_X=True, fit_intercept=True, max_iter=None,\n",
      "   normalize=False, random_state=None, solver='auto', tol=0.001)\n",
      "best score = 4.78213628603\n"
     ]
    }
   ],
   "source": [
    "best = grid_search.best_estimator_\n",
    "print(best)\n",
    "print('best score =', -grid_search.best_score_)"
   ]
  },
  {
   "cell_type": "markdown",
   "metadata": {},
   "source": [
    "### Output result to file"
   ]
  },
  {
   "cell_type": "markdown",
   "metadata": {},
   "source": [
    "Now, we can predict the output of the validation data and write it to a file."
   ]
  },
  {
   "cell_type": "code",
   "execution_count": 90,
   "metadata": {},
   "outputs": [],
   "source": [
    "Ypred = best.predict(Xtest)\n",
    "np.savetxt('result_validate.txt', Ypred)"
   ]
  },
  {
   "cell_type": "markdown",
   "metadata": {},
   "source": [
    "### Stochastic gradient descent vs gradient descent"
   ]
  },
  {
   "cell_type": "code",
   "execution_count": 91,
   "metadata": {},
   "outputs": [
    {
     "name": "stdout",
     "output_type": "stream",
     "text": [
      "x_true [ 9.9361688   9.93170226]\n"
     ]
    }
   ],
   "source": [
    "n_points = 100\n",
    "points = np.random.randn(n_points, 2) + 10\n",
    "x_true = np.mean(points, axis=0).ravel()\n",
    "print('x_true', x_true)"
   ]
  },
  {
   "cell_type": "code",
   "execution_count": 92,
   "metadata": {},
   "outputs": [
    {
     "data": {
      "image/png": "[encoded data removed]"
     },
     "output_type": "display_data",
     "metadata": {}
    }
   ],
   "source": [
    "x = np.random.randn(2)\n",
    "step_size = 0.1\n",
    "errors = []\n",
    "for iteration in range(100):\n",
    "    point = np.mean(points, axis=0).ravel()\n",
    "    # point = points[np.random.randint(n_points), :].ravel()\n",
    "    x -= step_size * (x - point)\n",
    "    errors.append(np.linalg.norm(x - x_true))\n",
    "plt.plot(errors, 'o--');"
   ]
  },
  {
   "cell_type": "markdown",
   "metadata": {},
   "source": [
    "Let us now do use SGD for regression"
   ]
  },
  {
   "cell_type": "code",
   "execution_count": 93,
   "metadata": {},
   "outputs": [
    {
     "data": {
      "image/png": "[encoded data removed]"
     },
     "output_type": "display_data",
     "metadata": {}
    }
   ],
   "source": [
    "dim = 10\n",
    "step_size = 0.1\n",
    "X = np.random.randn(n_points, dim)\n",
    "w_truth = np.random.randn(dim)\n",
    "y = X.dot(w_truth).ravel() + 0.001 * np.random.randn(n_points)\n",
    "errors = []\n",
    "w = np.random.randn(dim)\n",
    "for iteration in range(100):\n",
    "    idx = np.random.randint(n_points)\n",
    "    point = X[idx, :].ravel()\n",
    "    w -= step_size * (w.dot(point) - y[idx]) * point\n",
    "    errors.append(np.mean(np.square(X.dot(w)-y)))\n",
    "plt.plot(errors, 'ro--');"
   ]
  },
  {
   "cell_type": "code",
   "execution_count": null,
   "metadata": {},
   "outputs": [],
   "source": [
    ""
   ]
  }
 ],
 "metadata": {
  "kernelspec": {
   "display_name": "Python 2",
   "language": "python",
   "name": "python2"
  },
  "language_info": {
   "codemirror_mode": {
    "name": "ipython",
    "version": 2.0
   },
   "file_extension": ".py",
   "mimetype": "text/x-python",
   "name": "python",
   "nbconvert_exporter": "python",
   "pygments_lexer": "ipython2",
   "version": "2.7.6"
  }
 },
 "nbformat": 4,
 "nbformat_minor": 0
}